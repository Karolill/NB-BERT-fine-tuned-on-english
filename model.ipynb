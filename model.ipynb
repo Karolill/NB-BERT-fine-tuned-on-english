{
 "cells": [
  {
   "cell_type": "markdown",
   "id": "f3fdea05",
   "metadata": {},
   "source": [
    "# Script to Create Datasets, Models, and to Evaluate the Models\n",
    "\n",
    "NB: The code below was used to fine-tune and evaluate all the models, however that is very time-consuming. Therefore, some of the comments in the code recommend changes that can be made (code that can be commented out or replaced with something else) to make the code run faster."
   ]
  },
  {
   "cell_type": "code",
   "execution_count": 2,
   "id": "736f9200",
   "metadata": {
    "scrolled": true
   },
   "outputs": [
    {
     "name": "stdout",
     "output_type": "stream",
     "text": [
      "Requirement already satisfied: transformers in c:\\users\\karoline\\appdata\\local\\programs\\python\\python310\\lib\\site-packages (4.24.0)\n",
      "Requirement already satisfied: datasets in c:\\users\\karoline\\appdata\\local\\programs\\python\\python310\\lib\\site-packages (2.6.1)\n",
      "Requirement already satisfied: torch in c:\\users\\karoline\\appdata\\local\\programs\\python\\python310\\lib\\site-packages (1.13.0)\n",
      "Requirement already satisfied: evaluate in c:\\users\\karoline\\appdata\\local\\programs\\python\\python310\\lib\\site-packages (0.3.0)\n",
      "Requirement already satisfied: scikit-learn in c:\\users\\karoline\\appdata\\local\\programs\\python\\python310\\lib\\site-packages (1.1.3)\n",
      "Requirement already satisfied: regex!=2019.12.17 in c:\\users\\karoline\\appdata\\local\\programs\\python\\python310\\lib\\site-packages (from transformers) (2022.10.31)\n",
      "Requirement already satisfied: filelock in c:\\users\\karoline\\appdata\\local\\programs\\python\\python310\\lib\\site-packages (from transformers) (3.8.0)\n",
      "Requirement already satisfied: pyyaml>=5.1 in c:\\users\\karoline\\appdata\\local\\programs\\python\\python310\\lib\\site-packages (from transformers) (6.0)\n",
      "Requirement already satisfied: packaging>=20.0 in c:\\users\\karoline\\appdata\\local\\programs\\python\\python310\\lib\\site-packages (from transformers) (21.3)\n",
      "Requirement already satisfied: tqdm>=4.27 in c:\\users\\karoline\\appdata\\local\\programs\\python\\python310\\lib\\site-packages (from transformers) (4.64.1)\n",
      "Requirement already satisfied: numpy>=1.17 in c:\\users\\karoline\\appdata\\local\\programs\\python\\python310\\lib\\site-packages (from transformers) (1.23.3)\n",
      "Requirement already satisfied: tokenizers!=0.11.3,<0.14,>=0.11.1 in c:\\users\\karoline\\appdata\\local\\programs\\python\\python310\\lib\\site-packages (from transformers) (0.13.2)\n",
      "Requirement already satisfied: requests in c:\\users\\karoline\\appdata\\local\\programs\\python\\python310\\lib\\site-packages (from transformers) (2.28.1)\n",
      "Requirement already satisfied: huggingface-hub<1.0,>=0.10.0 in c:\\users\\karoline\\appdata\\local\\programs\\python\\python310\\lib\\site-packages (from transformers) (0.10.1)\n",
      "Requirement already satisfied: pandas in c:\\users\\karoline\\appdata\\local\\programs\\python\\python310\\lib\\site-packages (from datasets) (1.5.0)\n",
      "Requirement already satisfied: responses<0.19 in c:\\users\\karoline\\appdata\\local\\programs\\python\\python310\\lib\\site-packages (from datasets) (0.18.0)\n",
      "Requirement already satisfied: pyarrow>=6.0.0 in c:\\users\\karoline\\appdata\\local\\programs\\python\\python310\\lib\\site-packages (from datasets) (10.0.0)\n",
      "Requirement already satisfied: fsspec[http]>=2021.11.1 in c:\\users\\karoline\\appdata\\local\\programs\\python\\python310\\lib\\site-packages (from datasets) (2022.10.0)\n",
      "Requirement already satisfied: dill<0.3.6 in c:\\users\\karoline\\appdata\\local\\programs\\python\\python310\\lib\\site-packages (from datasets) (0.3.5.1)\n",
      "Requirement already satisfied: multiprocess in c:\\users\\karoline\\appdata\\local\\programs\\python\\python310\\lib\\site-packages (from datasets) (0.70.13)\n",
      "Requirement already satisfied: xxhash in c:\\users\\karoline\\appdata\\local\\programs\\python\\python310\\lib\\site-packages (from datasets) (3.1.0)\n",
      "Requirement already satisfied: aiohttp in c:\\users\\karoline\\appdata\\local\\programs\\python\\python310\\lib\\site-packages (from datasets) (3.8.3)\n",
      "Requirement already satisfied: typing-extensions in c:\\users\\karoline\\appdata\\local\\programs\\python\\python310\\lib\\site-packages (from torch) (4.3.0)\n",
      "Requirement already satisfied: scipy>=1.3.2 in c:\\users\\karoline\\appdata\\local\\programs\\python\\python310\\lib\\site-packages (from scikit-learn) (1.8.1)\n",
      "Requirement already satisfied: joblib>=1.0.0 in c:\\users\\karoline\\appdata\\local\\programs\\python\\python310\\lib\\site-packages (from scikit-learn) (1.2.0)\n",
      "Requirement already satisfied: threadpoolctl>=2.0.0 in c:\\users\\karoline\\appdata\\local\\programs\\python\\python310\\lib\\site-packages (from scikit-learn) (3.1.0)\n",
      "Requirement already satisfied: async-timeout<5.0,>=4.0.0a3 in c:\\users\\karoline\\appdata\\local\\programs\\python\\python310\\lib\\site-packages (from aiohttp->datasets) (4.0.2)\n",
      "Requirement already satisfied: yarl<2.0,>=1.0 in c:\\users\\karoline\\appdata\\local\\programs\\python\\python310\\lib\\site-packages (from aiohttp->datasets) (1.8.1)\n",
      "Requirement already satisfied: multidict<7.0,>=4.5 in c:\\users\\karoline\\appdata\\local\\programs\\python\\python310\\lib\\site-packages (from aiohttp->datasets) (6.0.2)\n",
      "Requirement already satisfied: frozenlist>=1.1.1 in c:\\users\\karoline\\appdata\\local\\programs\\python\\python310\\lib\\site-packages (from aiohttp->datasets) (1.3.1)\n",
      "Requirement already satisfied: attrs>=17.3.0 in c:\\users\\karoline\\appdata\\local\\programs\\python\\python310\\lib\\site-packages (from aiohttp->datasets) (22.1.0)\n",
      "Requirement already satisfied: aiosignal>=1.1.2 in c:\\users\\karoline\\appdata\\local\\programs\\python\\python310\\lib\\site-packages (from aiohttp->datasets) (1.2.0)\n",
      "Requirement already satisfied: charset-normalizer<3.0,>=2.0 in c:\\users\\karoline\\appdata\\local\\programs\\python\\python310\\lib\\site-packages (from aiohttp->datasets) (2.1.1)\n",
      "Requirement already satisfied: pyparsing!=3.0.5,>=2.0.2 in c:\\users\\karoline\\appdata\\local\\programs\\python\\python310\\lib\\site-packages (from packaging>=20.0->transformers) (3.0.9)\n",
      "Requirement already satisfied: urllib3<1.27,>=1.21.1 in c:\\users\\karoline\\appdata\\local\\programs\\python\\python310\\lib\\site-packages (from requests->transformers) (1.26.12)\n",
      "Requirement already satisfied: idna<4,>=2.5 in c:\\users\\karoline\\appdata\\local\\programs\\python\\python310\\lib\\site-packages (from requests->transformers) (3.4)\n",
      "Requirement already satisfied: certifi>=2017.4.17 in c:\\users\\karoline\\appdata\\local\\programs\\python\\python310\\lib\\site-packages (from requests->transformers) (2022.9.24)\n",
      "Requirement already satisfied: colorama in c:\\users\\karoline\\appdata\\local\\programs\\python\\python310\\lib\\site-packages (from tqdm>=4.27->transformers) (0.4.5)\n",
      "Requirement already satisfied: python-dateutil>=2.8.1 in c:\\users\\karoline\\appdata\\local\\programs\\python\\python310\\lib\\site-packages (from pandas->datasets) (2.8.2)\n",
      "Requirement already satisfied: pytz>=2020.1 in c:\\users\\karoline\\appdata\\local\\programs\\python\\python310\\lib\\site-packages (from pandas->datasets) (2022.4)\n",
      "Requirement already satisfied: six>=1.5 in c:\\users\\karoline\\appdata\\local\\programs\\python\\python310\\lib\\site-packages (from python-dateutil>=2.8.1->pandas->datasets) (1.16.0)\n"
     ]
    },
    {
     "name": "stderr",
     "output_type": "stream",
     "text": [
      "WARNING: You are using pip version 21.2.3; however, version 22.3.1 is available.\n",
      "You should consider upgrading via the 'C:\\Users\\Karoline\\AppData\\Local\\Programs\\Python\\Python310\\python.exe -m pip install --upgrade pip' command.\n"
     ]
    }
   ],
   "source": [
    "!pip install transformers datasets torch evaluate scikit-learn"
   ]
  },
  {
   "cell_type": "code",
   "execution_count": 2,
   "id": "d1194f27",
   "metadata": {},
   "outputs": [
    {
     "name": "stderr",
     "output_type": "stream",
     "text": [
      "C:\\Users\\Karoline\\AppData\\Local\\Programs\\Python\\Python310\\lib\\site-packages\\tqdm\\auto.py:22: TqdmWarning: IProgress not found. Please update jupyter and ipywidgets. See https://ipywidgets.readthedocs.io/en/stable/user_install.html\n",
      "  from .autonotebook import tqdm as notebook_tqdm\n"
     ]
    }
   ],
   "source": [
    "import pandas as pd\n",
    "from datasets import load_dataset\n",
    "from transformers import AutoModelForSequenceClassification, Trainer, TrainingArguments, AutoTokenizer, pipeline\n",
    "import numpy as np\n",
    "import evaluate\n",
    "import sklearn"
   ]
  },
  {
   "cell_type": "markdown",
   "id": "dc58eb9f",
   "metadata": {},
   "source": [
    "## Model parameters"
   ]
  },
  {
   "cell_type": "code",
   "execution_count": 3,
   "id": "13d95dcd",
   "metadata": {},
   "outputs": [],
   "source": [
    "model_name = 'NbAiLab/nb-bert-large'\n",
    "max_seq_length = 128\n",
    "batch_size = 32\n",
    "warmup_proportion = 0.1\n",
    "epochs = 3  "
   ]
  },
  {
   "cell_type": "markdown",
   "id": "40415dd7",
   "metadata": {},
   "source": [
    "## Load and prepare data"
   ]
  },
  {
   "cell_type": "code",
   "execution_count": 4,
   "id": "30d1b6c7",
   "metadata": {},
   "outputs": [
    {
     "name": "stderr",
     "output_type": "stream",
     "text": [
      "Found cached dataset imdb (C:/Users/Karoline/.cache/huggingface/datasets/imdb/plain_text/1.0.0/2fdd8b9bcadd6e7055e742a706876ba43f19faee861df134affd7a3f60fc38a1)\n",
      "100%|████████████████████████████████████████████████████████████████████████████████████| 3/3 [00:00<00:00, 25.80it/s]\n",
      "Using custom data configuration default-428935cb235bc209\n",
      "Found cached dataset csv (C:/Users/Karoline/.cache/huggingface/datasets/csv/default-428935cb235bc209/0.0.0/6b34fb8fcf56f7c8ba51dc895bfa2bfbe43546f190a60fcf74bb5e8afdcc2317)\n",
      "100%|████████████████████████████████████████████████████████████████████████████████████| 1/1 [00:00<00:00, 78.94it/s]\n",
      "Using custom data configuration default-db372433c7306bd9\n",
      "Found cached dataset csv (C:/Users/Karoline/.cache/huggingface/datasets/csv/default-db372433c7306bd9/0.0.0/6b34fb8fcf56f7c8ba51dc895bfa2bfbe43546f190a60fcf74bb5e8afdcc2317)\n",
      "100%|████████████████████████████████████████████████████████████████████████████████████| 1/1 [00:00<00:00, 59.91it/s]\n",
      "Using custom data configuration default-12b3df2afc6b8387\n",
      "Found cached dataset csv (C:/Users/Karoline/.cache/huggingface/datasets/csv/default-12b3df2afc6b8387/0.0.0/6b34fb8fcf56f7c8ba51dc895bfa2bfbe43546f190a60fcf74bb5e8afdcc2317)\n",
      "100%|████████████████████████████████████████████████████████████████████████████████████| 1/1 [00:00<00:00,  6.85it/s]\n"
     ]
    }
   ],
   "source": [
    "imdb = load_dataset('imdb')\n",
    "train_norec = load_dataset('csv', data_files='./norec_train_small.csv')\n",
    "eval_norec = load_dataset('csv', data_files='./norec_eval_small.csv')\n",
    "test_norec = load_dataset('csv', data_files='./norec_test.csv')"
   ]
  },
  {
   "cell_type": "code",
   "execution_count": 5,
   "id": "7440ff91",
   "metadata": {},
   "outputs": [
    {
     "name": "stderr",
     "output_type": "stream",
     "text": [
      "Loading cached processed dataset at C:/Users/Karoline/.cache/huggingface/datasets/csv/default-428935cb235bc209/0.0.0/6b34fb8fcf56f7c8ba51dc895bfa2bfbe43546f190a60fcf74bb5e8afdcc2317\\cache-de260e6381244414.arrow\n",
      "Loading cached processed dataset at C:/Users/Karoline/.cache/huggingface/datasets/csv/default-12b3df2afc6b8387/0.0.0/6b34fb8fcf56f7c8ba51dc895bfa2bfbe43546f190a60fcf74bb5e8afdcc2317\\cache-c8a79f6062a07423.arrow\n",
      "Loading cached processed dataset at C:/Users/Karoline/.cache/huggingface/datasets/csv/default-db372433c7306bd9/0.0.0/6b34fb8fcf56f7c8ba51dc895bfa2bfbe43546f190a60fcf74bb5e8afdcc2317\\cache-fab6c5fb141cf83e.arrow\n",
      "Loading cached processed dataset at C:/Users/Karoline/.cache/huggingface/datasets/imdb/plain_text/1.0.0/2fdd8b9bcadd6e7055e742a706876ba43f19faee861df134affd7a3f60fc38a1\\cache-c86fbd2b1d158dec.arrow\n",
      " 96%|██████████████████████████████████████████████████████████████████████████████▋   | 24/25 [00:18<00:00,  1.28ba/s]\n",
      "Loading cached processed dataset at C:/Users/Karoline/.cache/huggingface/datasets/imdb/plain_text/1.0.0/2fdd8b9bcadd6e7055e742a706876ba43f19faee861df134affd7a3f60fc38a1\\cache-6dd610f25632a359.arrow\n"
     ]
    }
   ],
   "source": [
    "# Tokenize data\n",
    "\n",
    "tokenizer = AutoTokenizer.from_pretrained(model_name)\n",
    "\n",
    "def tokenize_function(examples):\n",
    "    return tokenizer(examples['text'], truncation=True, padding=True, max_length=max_seq_length)\n",
    "\n",
    "train_norec_encoding = train_norec.map(\n",
    "    tokenize_function, \n",
    "    batched=True\n",
    ")\n",
    "\n",
    "test_norec_encoding = test_norec.map(\n",
    "    tokenize_function, \n",
    "    batched=True\n",
    ")\n",
    "\n",
    "eval_norec_encoding = eval_norec.map(\n",
    "    tokenize_function, \n",
    "    batched=True\n",
    ")\n",
    "\n",
    "imdb_encoding = imdb.map(\n",
    "    tokenize_function, \n",
    "    batched=True\n",
    ")"
   ]
  },
  {
   "cell_type": "markdown",
   "id": "86b49630",
   "metadata": {},
   "source": [
    "#### IMDB dataset"
   ]
  },
  {
   "cell_type": "code",
   "execution_count": 6,
   "id": "2f437929",
   "metadata": {},
   "outputs": [
    {
     "name": "stderr",
     "output_type": "stream",
     "text": [
      "Loading cached shuffled indices for dataset at C:/Users/Karoline/.cache/huggingface/datasets/imdb/plain_text/1.0.0/2fdd8b9bcadd6e7055e742a706876ba43f19faee861df134affd7a3f60fc38a1\\cache-9b48b79469815776.arrow\n"
     ]
    },
    {
     "data": {
      "text/plain": [
       "Dataset({\n",
       "    features: ['text', 'label', 'input_ids', 'token_type_ids', 'attention_mask'],\n",
       "    num_rows: 1000\n",
       "})"
      ]
     },
     "execution_count": 6,
     "metadata": {},
     "output_type": "execute_result"
    }
   ],
   "source": [
    "# Also the IMDB dataset will only use 1000 examples for training, because of time constraints\n",
    "final_train_imdb_encoding = imdb_encoding['train'].shuffle(seed=42).select(range(1000))\n",
    "final_train_imdb_encoding"
   ]
  },
  {
   "cell_type": "code",
   "execution_count": 7,
   "id": "dece4718",
   "metadata": {},
   "outputs": [
    {
     "data": {
      "text/plain": [
       "Dataset({\n",
       "    features: ['text', 'label', 'input_ids', 'token_type_ids', 'attention_mask'],\n",
       "    num_rows: 200\n",
       "})"
      ]
     },
     "execution_count": 7,
     "metadata": {},
     "output_type": "execute_result"
    }
   ],
   "source": [
    "# Evaluation dataset to use for evaluation while the model trains.\n",
    "final_eval_imdb_encoding = imdb_encoding['test'].shuffle(seed=42).select(range(200))\n",
    "final_eval_imdb_encoding"
   ]
  },
  {
   "cell_type": "markdown",
   "id": "4a9d4323",
   "metadata": {},
   "source": [
    "#### NoReC dataset"
   ]
  },
  {
   "cell_type": "code",
   "execution_count": 8,
   "id": "aaba0e09",
   "metadata": {},
   "outputs": [
    {
     "data": {
      "text/plain": [
       "Dataset({\n",
       "    features: ['text', 'label', 'input_ids', 'token_type_ids', 'attention_mask'],\n",
       "    num_rows: 1000\n",
       "})"
      ]
     },
     "execution_count": 8,
     "metadata": {},
     "output_type": "execute_result"
    }
   ],
   "source": [
    "final_train_norec_encoding = train_norec_encoding['train']\n",
    "final_train_norec_encoding"
   ]
  },
  {
   "cell_type": "code",
   "execution_count": 9,
   "id": "b8ff5eae",
   "metadata": {},
   "outputs": [
    {
     "data": {
      "text/plain": [
       "Dataset({\n",
       "    features: ['text', 'label', 'input_ids', 'token_type_ids', 'attention_mask'],\n",
       "    num_rows: 200\n",
       "})"
      ]
     },
     "execution_count": 9,
     "metadata": {},
     "output_type": "execute_result"
    }
   ],
   "source": [
    "final_eval_norec_encoding = eval_norec_encoding['train']\n",
    "final_eval_norec_encoding"
   ]
  },
  {
   "cell_type": "code",
   "execution_count": 10,
   "id": "9a23c9db",
   "metadata": {},
   "outputs": [
    {
     "data": {
      "text/plain": [
       "Dataset({\n",
       "    features: ['text', 'label', 'input_ids', 'token_type_ids', 'attention_mask'],\n",
       "    num_rows: 1429\n",
       "})"
      ]
     },
     "execution_count": 10,
     "metadata": {},
     "output_type": "execute_result"
    }
   ],
   "source": [
    "final_test_norec_encoding = test_norec_encoding['train']\n",
    "final_test_norec_encoding"
   ]
  },
  {
   "cell_type": "markdown",
   "id": "5e058cee",
   "metadata": {},
   "source": [
    "## Create a model and fine-tune it on the IMDB dataset \n",
    "\n",
    "This model will not see the NoReC dataset during training, meaning that both an imdb dataset is used for training and for evaluation. "
   ]
  },
  {
   "cell_type": "code",
   "execution_count": 62,
   "id": "ec21c4b1",
   "metadata": {},
   "outputs": [],
   "source": [
    "def create_and_train_model(lr: float, path: str, training_data, eval_data) -> None:\n",
    "    \"\"\"\n",
    "    Create a model based on a pretrained model, then fine-tune the model and save it to a file. \n",
    "    Args:\n",
    "        lr: the learning rate to use. \n",
    "        path: the beginning of the folder path where the fine-tuned model should be saved\n",
    "            (lr will be appended to the end of the path)\n",
    "        training_data: training dataset (encoded) to use for fine-tuning\n",
    "        eval_data: evaluation dataset (encoded) to use for evaluation during fine-tuning\n",
    "    \"\"\"\n",
    "    # Create the model by getting the pre-trained one\n",
    "    model = AutoModelForSequenceClassification.from_pretrained(model_name, num_labels=2)\n",
    "\n",
    "    # Create a trainer which specifies the training parameters\n",
    "    training_args = TrainingArguments(\n",
    "        output_dir='test_trainer',\n",
    "        learning_rate = lr,\n",
    "        warmup_steps = num_warmup_steps,\n",
    "        evaluation_strategy='epoch'    \n",
    "    )\n",
    "\n",
    "    # Create a function to evaluate the training\n",
    "    metric = evaluate.load('f1')\n",
    "\n",
    "    def compute_metrics(eval_pred):\n",
    "        logits, labels = eval_pred\n",
    "        predictions = np.argmax(logits, axis=-1)\n",
    "        return metric.compute(predictions=predictions, references=labels)\n",
    "\n",
    "    # Create trainer\n",
    "    trainer = Trainer(\n",
    "        model=model,\n",
    "        args=training_args,\n",
    "        train_dataset=training_data,\n",
    "        eval_dataset=eval_data,\n",
    "        compute_metrics=compute_metrics,\n",
    "    )\n",
    "\n",
    "    # fine-tune\n",
    "    trainer.train()\n",
    "\n",
    "    # save the model to a folder so it can be used later\n",
    "    directory = path + str(lr)\n",
    "    tokenizer.save_pretrained(directory)\n",
    "    model.save_pretrained(directory)"
   ]
  },
  {
   "cell_type": "markdown",
   "id": "615a751d",
   "metadata": {},
   "source": [
    "The paper by [Kummervold et al.](https://arxiv.org/abs/2104.09617) and [Devlin et al.](https://arxiv.org/abs/1810.04805) tried learning rates between 2e-5 and 5e-5, and therefore 4 different learning rates have been tried here too, and the results on the imdb evaluation dataset was used to determine what model should be used to make prediction on the NoReC test dataset.\n",
    "\n",
    "The cell below takes many hours to run. Each fine-tuned model is saved to a file so it won't be have to run again. The model that performed the best was also uploaded to huggingface so it can more easily be accessed. I would recommend commenting out the whole cell below and just load the best model (with a learning rate of 5e-5) from hugging face when required (the code for this will be given when needed).\n",
    "\n",
    "NB: the naming is a bit off. Things should have been named finetuned instead of pretrained, but I guess my brain failed when starting this naming convention, and it would take hours to rerun the code to fix file-names etc. so I will just leave it. "
   ]
  },
  {
   "cell_type": "code",
   "execution_count": 1,
   "id": "e6a11859",
   "metadata": {},
   "outputs": [
    {
     "ename": "NameError",
     "evalue": "name 'create_and_train_model' is not defined",
     "output_type": "error",
     "traceback": [
      "\u001b[1;31m---------------------------------------------------------------------------\u001b[0m",
      "\u001b[1;31mNameError\u001b[0m                                 Traceback (most recent call last)",
      "Cell \u001b[1;32mIn [1], line 1\u001b[0m\n\u001b[1;32m----> 1\u001b[0m create_and_train_model(\u001b[38;5;241m2e-5\u001b[39m)\n\u001b[0;32m      2\u001b[0m create_and_train_model(\u001b[38;5;241m3e-5\u001b[39m)\n\u001b[0;32m      3\u001b[0m create_and_train_model(\u001b[38;5;241m4e-5\u001b[39m)\n",
      "\u001b[1;31mNameError\u001b[0m: name 'create_and_train_model' is not defined"
     ]
    }
   ],
   "source": [
    "# Unless you really want to run this whole cell again (takes hours), just look at the results below and \n",
    "# load the best model from huggingface when required. \n",
    "create_and_train_model(2e-5, './model_pretrained_on_imdb_dataset_', final_train_imdb_encoding, final_eval_imdb_encoding)\n",
    "create_and_train_model(3e-5, './model_pretrained_on_imdb_dataset_', final_train_imdb_encoding, final_eval_imdb_encoding)\n",
    "create_and_train_model(4e-5, './model_pretrained_on_imdb_dataset_', final_train_imdb_encoding, final_eval_imdb_encoding)\n",
    "create_and_train_model(5e-5, './model_pretrained_on_imdb_dataset_', final_train_imdb_encoding, final_eval_imdb_encoding)"
   ]
  },
  {
   "attachments": {
    "image-4.png": {
     "image/png": "[encoded data removed]"
    },
    "image-5.png": {
     "image/png": "[encoded data removed]"
    },
    "image-6.png": {
     "image/png": "[encoded data removed]"
    },
    "image-8.png": {
     "image/png": "[encoded data removed]"
    }
   },
   "cell_type": "markdown",
   "id": "3d44f058",
   "metadata": {},
   "source": [
    "The results from funning the above cell is presented here.\n",
    "\n",
    "The following output comes from lr=2e-5:\n",
    "![image-5.png](attachment:image-5.png)\n",
    "\n",
    "this is with lr=3e-5:\n",
    "![image-6.png](attachment:image-6.png)\n",
    "\n",
    "this is with lr=4e-5:\n",
    "![image-8.png](attachment:image-8.png)\n",
    "\n",
    "and this is with lr=5e-5:\n",
    "![image-4.png](attachment:image-4.png)"
   ]
  },
  {
   "cell_type": "markdown",
   "id": "597b7756",
   "metadata": {},
   "source": [
    "### Evaluate the model"
   ]
  },
  {
   "cell_type": "code",
   "execution_count": 56,
   "id": "53169106",
   "metadata": {},
   "outputs": [],
   "source": [
    "def predict_from_fine_tuned_model(model_path: str, test_dataset_text: list[str]) -> pd.DataFrame:\n",
    "    \"\"\"\n",
    "    Make prediction on a dataset using a fine-tuned model.\n",
    "    Args:\n",
    "        model_path: file path to the fine-tuned model that should be used\n",
    "        test_dataset_text: a list containing the texts that sentiment analysis should be performed on\n",
    "    Returns:\n",
    "        a dataframe with the columns |Text|Label|Score| where the the text is the input text and the \n",
    "        label is the predicted label. The score is the probability that the label is correct. \n",
    "    \"\"\"\n",
    "\n",
    "    # Get the fine-tuned model\n",
    "    fetched_model = AutoModelForSequenceClassification.from_pretrained(model_path)\n",
    "    fetched_tokenizer = AutoTokenizer.from_pretrained(model_path)\n",
    "\n",
    "    # Create a classifier\n",
    "    classifier = pipeline(task='sentiment-analysis', model=fetched_model, tokenizer=fetched_tokenizer)\n",
    "\n",
    "    # The input can not be too big, set to the same size as used during fine-tuning\n",
    "    tokenizer_kwargs = {'padding': True, 'truncation': True, 'max_length': max_seq_length}\n",
    "\n",
    "    result = classifier(test_dataset_text, **tokenizer_kwargs)\n",
    "\n",
    "    # Create a dataframe containing the results\n",
    "    data = {\n",
    "            'Text': test_dataset_text, \n",
    "            'Label': [d['label'] for d in result],\n",
    "            'Score': [d['score'] for d in result]\n",
    "           }\n",
    "    result_df = pd.DataFrame(data)\n",
    "    return result_df"
   ]
  },
  {
   "cell_type": "code",
   "execution_count": 43,
   "id": "df72185a",
   "metadata": {},
   "outputs": [],
   "source": [
    "def report_evaluation(predicted_labels_string: list[str], actual_labels: list[int]) -> None:\n",
    "    \"\"\"\n",
    "    Evaluate the predictions made by the model, and print the evaluation.\n",
    "    Args:\n",
    "        result_df: a list containing the labels predicted by the model\n",
    "        actual_labels: the actual labels of the dataset\n",
    "    Returns:\n",
    "        None\n",
    "    \"\"\"\n",
    "\n",
    "    predicted_labels = []\n",
    "    for prediction in predicted_labels_string:\n",
    "        if prediction == 'LABEL_0':\n",
    "            predicted_labels.append(0)\n",
    "        else:\n",
    "            predicted_labels.append(1)\n",
    "\n",
    "    print(sklearn.metrics.classification_report(actual_labels, predicted_labels))"
   ]
  },
  {
   "cell_type": "markdown",
   "id": "91e182ff",
   "metadata": {},
   "source": [
    "#### IMDB\n",
    "\n",
    "Here I will evaluate on the IMDB evaluation dataset, just to get a better idea of what of the pretrained models worked the best, however the actual validation will be done later on the NoReC test dataset. \n",
    "\n",
    "Based on the results below, plus the results seen during fine-tuning, there is not much difference when using different learning rates, but the one with a learning rate of 5e-5 seems to be a bit better than the others and will be used for testing. "
   ]
  },
  {
   "cell_type": "code",
   "execution_count": 41,
   "id": "df07ed57",
   "metadata": {},
   "outputs": [
    {
     "name": "stderr",
     "output_type": "stream",
     "text": [
      "Loading cached shuffled indices for dataset at C:/Users/Karoline/.cache/huggingface/datasets/imdb/plain_text/1.0.0/2fdd8b9bcadd6e7055e742a706876ba43f19faee861df134affd7a3f60fc38a1\\cache-2eff9f118d84c6fe.arrow\n"
     ]
    }
   ],
   "source": [
    "# Get the evaluation dataset\n",
    "test_dataset = imdb['test'].shuffle(seed=42).select(range(200))\n",
    "test_dataset_text = test_dataset['text']\n",
    "test_dataset_labels = test_dataset['label']"
   ]
  },
  {
   "cell_type": "code",
   "execution_count": 44,
   "id": "20136c37",
   "metadata": {},
   "outputs": [
    {
     "name": "stdout",
     "output_type": "stream",
     "text": [
      "The results using a learning rate of 2e-05:\n",
      "              precision    recall  f1-score   support\n",
      "\n",
      "           0       0.86      0.80      0.83       104\n",
      "           1       0.80      0.86      0.83        96\n",
      "\n",
      "    accuracy                           0.83       200\n",
      "   macro avg       0.83      0.83      0.83       200\n",
      "weighted avg       0.83      0.83      0.83       200\n",
      "\n",
      "\n",
      "The results using a learning rate of 3e-05:\n",
      "              precision    recall  f1-score   support\n",
      "\n",
      "           0       0.89      0.72      0.80       104\n",
      "           1       0.75      0.91      0.82        96\n",
      "\n",
      "    accuracy                           0.81       200\n",
      "   macro avg       0.82      0.81      0.81       200\n",
      "weighted avg       0.82      0.81      0.81       200\n",
      "\n",
      "\n",
      "The results using a learning rate of 4e-05:\n",
      "              precision    recall  f1-score   support\n",
      "\n",
      "           0       0.88      0.71      0.79       104\n",
      "           1       0.74      0.90      0.81        96\n",
      "\n",
      "    accuracy                           0.80       200\n",
      "   macro avg       0.81      0.80      0.80       200\n",
      "weighted avg       0.81      0.80      0.80       200\n",
      "\n",
      "\n",
      "The results using a learning rate of 5e-05:\n",
      "              precision    recall  f1-score   support\n",
      "\n",
      "           0       0.84      0.87      0.85       104\n",
      "           1       0.85      0.82      0.84        96\n",
      "\n",
      "    accuracy                           0.84       200\n",
      "   macro avg       0.85      0.84      0.84       200\n",
      "weighted avg       0.85      0.84      0.84       200\n",
      "\n"
     ]
    }
   ],
   "source": [
    "# If you didn't run the code above that I suggested commenting out, comment out this as well, or it won't run\n",
    "# since the models won't be found (they were not saved as files on the computer)\n",
    "results_2e = predict_from_fine_tuned_model('./model_pretrained_on_imdb_dataset_2e-05', test_dataset_text)\n",
    "predicted_labels_string_2e = results_2e['Label']\n",
    "print('The results using a learning rate of 2e-05:')\n",
    "report_evaluation(predicted_labels_string_2e, test_dataset_labels)\n",
    "\n",
    "results_3e = predict_from_fine_tuned_model('./model_pretrained_on_imdb_dataset_3e-05', test_dataset_text)\n",
    "predicted_labels_string_3e = results_3e['Label']\n",
    "print('\\nThe results using a learning rate of 3e-05:')\n",
    "report_evaluation(predicted_labels_string_3e, test_dataset_labels)\n",
    "\n",
    "results_4e = predict_from_fine_tuned_model('./model_pretrained_on_imdb_dataset_4e-05', test_dataset_text)\n",
    "predicted_labels_string_4e = results_4e['Label']\n",
    "print('\\nThe results using a learning rate of 4e-05:')\n",
    "report_evaluation(predicted_labels_string_4e, test_dataset_labels)\n",
    "\n",
    "results_5e = predict_from_fine_tuned_model('./model_pretrained_on_imdb_dataset_5e-05', test_dataset_text)\n",
    "predicted_labels_string_5e = results_5e['Label']\n",
    "print('\\nThe results using a learning rate of 5e-05:')\n",
    "report_evaluation(predicted_labels_string_5e, test_dataset_labels)"
   ]
  },
  {
   "cell_type": "markdown",
   "id": "932c969f",
   "metadata": {},
   "source": [
    "#### NoReC dataset - results\n",
    "\n",
    "The model trained on the IMDB dataset with a learning rate of 5e-05 will be used to predict the sentiment of the NoReC test dataset, and the results will be printed. This model was saved to [huggingface](https://huggingface.co/karolill/nb-bert-finetuned-on-imdb?text=I+like+you.+I+love+you) so it can be easily loaded. The code to load this model from huggingface is also given below as a comment, in case you didn't want to run the code to fine-tune the models and create local files above."
   ]
  },
  {
   "cell_type": "code",
   "execution_count": 58,
   "id": "4de21be8",
   "metadata": {
    "scrolled": false
   },
   "outputs": [
    {
     "name": "stderr",
     "output_type": "stream",
     "text": [
      "IOPub data rate exceeded.\n",
      "The notebook server will temporarily stop sending output\n",
      "to the client in order to avoid crashing it.\n",
      "To change this limit, set the config variable\n",
      "`--NotebookApp.iopub_data_rate_limit`.\n",
      "\n",
      "Current values:\n",
      "NotebookApp.iopub_data_rate_limit=1000000.0 (bytes/sec)\n",
      "NotebookApp.rate_limit_window=3.0 (secs)\n",
      "\n"
     ]
    }
   ],
   "source": [
    "norec_test_text = test_norec['train']['text']\n",
    "norec_test_labels = test_norec['train']['label']\n",
    "\n",
    "# If you didn't run the cell I recommended commenting out, uncomment the following line to load model from\n",
    "# huggingface:\n",
    "# results_pretrained_on_imdb = predict_from_fine_tuned_model('karolill/nb-bert-finetuned-on-imdb', norec_test_text)\n",
    "# and comment out this line:\n",
    "results_pretrained_on_imdb = predict_from_fine_tuned_model('./model_pretrained_on_imdb_dataset_5e-05', norec_test_text)\n",
    "# Leave this line either way:\n",
    "predicted_labels_string_norec_pretrained_on_imdb = results_pretrained_on_imdb['Label']"
   ]
  },
  {
   "cell_type": "code",
   "execution_count": 61,
   "id": "f7fd5690",
   "metadata": {},
   "outputs": [
    {
     "name": "stdout",
     "output_type": "stream",
     "text": [
      "\n",
      "The results on the NoReC dataset using a learning rate of 5e-05 is:\n",
      "              precision    recall  f1-score   support\n",
      "\n",
      "           0       0.77      0.63      0.69       416\n",
      "           1       0.86      0.92      0.89      1013\n",
      "\n",
      "    accuracy                           0.84      1429\n",
      "   macro avg       0.81      0.77      0.79      1429\n",
      "weighted avg       0.83      0.84      0.83      1429\n",
      "\n"
     ]
    }
   ],
   "source": [
    "print('\\nThe results on the NoReC dataset using a learning rate of 5e-05 is:')\n",
    "report_evaluation(predicted_labels_string_norec_pretrained_on_imdb, norec_test_labels)"
   ]
  },
  {
   "cell_type": "markdown",
   "id": "c139c9e6",
   "metadata": {},
   "source": [
    "The model achieved an accuracy of 84% even though it was fine-tuned only on english texts. Otherwise, we can see that the model is better at predicting positive reviews than negative reviews. "
   ]
  },
  {
   "cell_type": "markdown",
   "id": "321f183e",
   "metadata": {},
   "source": [
    "## Create a model and fine-tune it on the NoReC dataset\n",
    "\n",
    "The above code fine-tuned a model on the IMDB dataset, and now a model will be fine-tuned on the NoReC dataset for comparison. Since a learning rate of 5e-5 worked best when fine-tuning on the IMDB dataset, that will also be used here. The model created here (finetuned on NoReC with a learning rate of 5e-5) is saved to [huggingface](https://huggingface.co/karolill/nb-bert-finetuned-on-norec?text=I+like+you.+I+love+you). "
   ]
  },
  {
   "cell_type": "code",
   "execution_count": 63,
   "id": "a8a0ca63",
   "metadata": {
    "scrolled": true
   },
   "outputs": [
    {
     "name": "stderr",
     "output_type": "stream",
     "text": [
      "Some weights of the model checkpoint at NbAiLab/nb-bert-large were not used when initializing BertForSequenceClassification: ['cls.predictions.decoder.weight', 'cls.predictions.bias', 'cls.predictions.transform.LayerNorm.weight', 'cls.predictions.transform.LayerNorm.bias', 'cls.predictions.transform.dense.weight', 'cls.seq_relationship.weight', 'cls.predictions.decoder.bias', 'cls.predictions.transform.dense.bias', 'cls.seq_relationship.bias']\n",
      "- This IS expected if you are initializing BertForSequenceClassification from the checkpoint of a model trained on another task or with another architecture (e.g. initializing a BertForSequenceClassification model from a BertForPreTraining model).\n",
      "- This IS NOT expected if you are initializing BertForSequenceClassification from the checkpoint of a model that you expect to be exactly identical (initializing a BertForSequenceClassification model from a BertForSequenceClassification model).\n",
      "Some weights of BertForSequenceClassification were not initialized from the model checkpoint at NbAiLab/nb-bert-large and are newly initialized: ['classifier.weight', 'classifier.bias']\n",
      "You should probably TRAIN this model on a down-stream task to be able to use it for predictions and inference.\n",
      "The following columns in the training set don't have a corresponding argument in `BertForSequenceClassification.forward` and have been ignored: text. If text are not expected by `BertForSequenceClassification.forward`,  you can safely ignore this message.\n",
      "C:\\Users\\Karoline\\AppData\\Local\\Programs\\Python\\Python310\\lib\\site-packages\\transformers\\optimization.py:306: FutureWarning: This implementation of AdamW is deprecated and will be removed in a future version. Use the PyTorch implementation torch.optim.AdamW instead, or set `no_deprecation_warning=True` to disable this warning\n",
      "  warnings.warn(\n",
      "***** Running training *****\n",
      "  Num examples = 1000\n",
      "  Num Epochs = 3\n",
      "  Instantaneous batch size per device = 8\n",
      "  Total train batch size (w. parallel, distributed & accumulation) = 8\n",
      "  Gradient Accumulation steps = 1\n",
      "  Total optimization steps = 375\n",
      "  Number of trainable parameters = 355089410\n"
     ]
    },
    {
     "data": {
      "text/html": [
       "\n",
       "    <div>\n",
       "      \n",
       "      <progress value='375' max='375' style='width:300px; height:20px; vertical-align: middle;'></progress>\n",
       "      [375/375 2:07:06, Epoch 3/3]\n",
       "    </div>\n",
       "    <table border=\"1\" class=\"dataframe\">\n",
       "  <thead>\n",
       " <tr style=\"text-align: left;\">\n",
       "      <th>Epoch</th>\n",
       "      <th>Training Loss</th>\n",
       "      <th>Validation Loss</th>\n",
       "      <th>F1</th>\n",
       "    </tr>\n",
       "  </thead>\n",
       "  <tbody>\n",
       "    <tr>\n",
       "      <td>1</td>\n",
       "      <td>No log</td>\n",
       "      <td>0.530493</td>\n",
       "      <td>0.790123</td>\n",
       "    </tr>\n",
       "    <tr>\n",
       "      <td>2</td>\n",
       "      <td>No log</td>\n",
       "      <td>0.324948</td>\n",
       "      <td>0.917910</td>\n",
       "    </tr>\n",
       "    <tr>\n",
       "      <td>3</td>\n",
       "      <td>No log</td>\n",
       "      <td>0.170057</td>\n",
       "      <td>0.962963</td>\n",
       "    </tr>\n",
       "  </tbody>\n",
       "</table><p>"
      ],
      "text/plain": [
       "<IPython.core.display.HTML object>"
      ]
     },
     "metadata": {},
     "output_type": "display_data"
    },
    {
     "name": "stderr",
     "output_type": "stream",
     "text": [
      "The following columns in the evaluation set don't have a corresponding argument in `BertForSequenceClassification.forward` and have been ignored: text. If text are not expected by `BertForSequenceClassification.forward`,  you can safely ignore this message.\n",
      "***** Running Evaluation *****\n",
      "  Num examples = 200\n",
      "  Batch size = 8\n",
      "The following columns in the evaluation set don't have a corresponding argument in `BertForSequenceClassification.forward` and have been ignored: text. If text are not expected by `BertForSequenceClassification.forward`,  you can safely ignore this message.\n",
      "***** Running Evaluation *****\n",
      "  Num examples = 200\n",
      "  Batch size = 8\n",
      "The following columns in the evaluation set don't have a corresponding argument in `BertForSequenceClassification.forward` and have been ignored: text. If text are not expected by `BertForSequenceClassification.forward`,  you can safely ignore this message.\n",
      "***** Running Evaluation *****\n",
      "  Num examples = 200\n",
      "  Batch size = 8\n",
      "\n",
      "\n",
      "Training completed. Do not forget to share your model on huggingface.co/models =)\n",
      "\n",
      "\n",
      "tokenizer config file saved in ./model_pretrained_on_norec_dataset_5e-05\\tokenizer_config.json\n",
      "Special tokens file saved in ./model_pretrained_on_norec_dataset_5e-05\\special_tokens_map.json\n",
      "Configuration saved in ./model_pretrained_on_norec_dataset_5e-05\\config.json\n",
      "Model weights saved in ./model_pretrained_on_norec_dataset_5e-05\\pytorch_model.bin\n"
     ]
    }
   ],
   "source": [
    "# Also time-consuming. Can comment out this cell and an alternative code will be given where needed below, \n",
    "# since the model created by this cell is saved to huggingface\n",
    "create_and_train_model(5e-5, './model_pretrained_on_norec_dataset_', final_train_norec_encoding, final_eval_norec_encoding)"
   ]
  },
  {
   "attachments": {
    "image.png": {
     "image/png": "[encoded data removed]"
    }
   },
   "cell_type": "markdown",
   "id": "84465f54",
   "metadata": {},
   "source": [
    "The f1 score during training was better when training on the NoReC dataset, and looked like this:\n",
    "![image.png](attachment:image.png)"
   ]
  },
  {
   "cell_type": "markdown",
   "id": "a8aadc10",
   "metadata": {},
   "source": [
    "### Evaluate the model\n",
    "\n",
    "#### NoReC dataset - results\n",
    "\n",
    "The model fine-tuned on the NoReC dataset will be evaluated and the results printed."
   ]
  },
  {
   "cell_type": "code",
   "execution_count": 64,
   "id": "d6ec97f4",
   "metadata": {},
   "outputs": [
    {
     "name": "stderr",
     "output_type": "stream",
     "text": [
      "loading configuration file ./model_pretrained_on_norec_dataset_5e-05\\config.json\n",
      "Model config BertConfig {\n",
      "  \"_name_or_path\": \"./model_pretrained_on_norec_dataset_5e-05\",\n",
      "  \"architectures\": [\n",
      "    \"BertForSequenceClassification\"\n",
      "  ],\n",
      "  \"attention_probs_dropout_prob\": 0.1,\n",
      "  \"classifier_dropout\": null,\n",
      "  \"gradient_checkpointing\": false,\n",
      "  \"hidden_act\": \"gelu\",\n",
      "  \"hidden_dropout_prob\": 0.1,\n",
      "  \"hidden_size\": 1024,\n",
      "  \"initializer_range\": 0.02,\n",
      "  \"intermediate_size\": 4096,\n",
      "  \"layer_norm_eps\": 1e-12,\n",
      "  \"max_position_embeddings\": 512,\n",
      "  \"model_type\": \"bert\",\n",
      "  \"num_attention_heads\": 16,\n",
      "  \"num_hidden_layers\": 24,\n",
      "  \"pad_token_id\": 0,\n",
      "  \"position_embedding_type\": \"absolute\",\n",
      "  \"problem_type\": \"single_label_classification\",\n",
      "  \"torch_dtype\": \"float32\",\n",
      "  \"transformers_version\": \"4.24.0\",\n",
      "  \"type_vocab_size\": 2,\n",
      "  \"use_cache\": true,\n",
      "  \"vocab_size\": 50000\n",
      "}\n",
      "\n",
      "loading weights file ./model_pretrained_on_norec_dataset_5e-05\\pytorch_model.bin\n",
      "All model checkpoint weights were used when initializing BertForSequenceClassification.\n",
      "\n",
      "All the weights of BertForSequenceClassification were initialized from the model checkpoint at ./model_pretrained_on_norec_dataset_5e-05.\n",
      "If your task is similar to the task the model of the checkpoint was trained on, you can already use BertForSequenceClassification for predictions without further training.\n",
      "loading file vocab.txt\n",
      "loading file tokenizer.json\n",
      "loading file added_tokens.json\n",
      "loading file special_tokens_map.json\n",
      "loading file tokenizer_config.json\n",
      "IOPub data rate exceeded.\n",
      "The notebook server will temporarily stop sending output\n",
      "to the client in order to avoid crashing it.\n",
      "To change this limit, set the config variable\n",
      "`--NotebookApp.iopub_data_rate_limit`.\n",
      "\n",
      "Current values:\n",
      "NotebookApp.iopub_data_rate_limit=1000000.0 (bytes/sec)\n",
      "NotebookApp.rate_limit_window=3.0 (secs)\n",
      "\n"
     ]
    }
   ],
   "source": [
    "# If you dropped the cell above that fine-tuned the model and saved it locally, uncomment this line:\n",
    "# results_pretrained_on_norec = predict_from_fine_tuned_model('karolill/nb-bert-finetuned-on-norec', norec_test_text)\n",
    "# and comment out this line:\n",
    "results_pretrained_on_norec = predict_from_fine_tuned_model('./model_pretrained_on_norec_dataset_5e-05', norec_test_text)\n",
    "# Let this line stay either way:\n",
    "predicted_labels_string_norec_pretrained_on_norec = results_pretrained_on_norec['Label']"
   ]
  },
  {
   "cell_type": "code",
   "execution_count": 66,
   "id": "51442a49",
   "metadata": {},
   "outputs": [
    {
     "name": "stdout",
     "output_type": "stream",
     "text": [
      "\n",
      "The results on the NoReC dataset using a learning rate of 5e-05 when the model was pretrained on the NoReC dataset is:\n",
      "              precision    recall  f1-score   support\n",
      "\n",
      "           0       0.73      0.70      0.71       416\n",
      "           1       0.88      0.89      0.89      1013\n",
      "\n",
      "    accuracy                           0.84      1429\n",
      "   macro avg       0.80      0.80      0.80      1429\n",
      "weighted avg       0.83      0.84      0.84      1429\n",
      "\n"
     ]
    }
   ],
   "source": [
    "print('\\nThe results on the NoReC dataset using a learning rate of 5e-05 when the model was pretrained on the NoReC dataset is:')\n",
    "report_evaluation(predicted_labels_string_norec_pretrained_on_norec, norec_test_labels)"
   ]
  },
  {
   "cell_type": "markdown",
   "id": "8172c49b",
   "metadata": {},
   "source": [
    "## Check how much the model knows before being fine-tuned\n",
    "\n",
    "To get an idea of how important the fine-tuning process is, an experiment will be done to check how well the NB-BERT model performs without any fine-tuning. "
   ]
  },
  {
   "cell_type": "code",
   "execution_count": 67,
   "id": "830dbdc4",
   "metadata": {},
   "outputs": [
    {
     "name": "stderr",
     "output_type": "stream",
     "text": [
      "loading configuration file config.json from cache at C:\\Users\\Karoline/.cache\\huggingface\\hub\\models--NbAiLab--nb-bert-large\\snapshots\\27e8180855f0de03688958c88a2e5702bfbf0bfd\\config.json\n",
      "Model config BertConfig {\n",
      "  \"_name_or_path\": \"NbAiLab/nb-bert-large\",\n",
      "  \"attention_probs_dropout_prob\": 0.1,\n",
      "  \"classifier_dropout\": null,\n",
      "  \"gradient_checkpointing\": false,\n",
      "  \"hidden_act\": \"gelu\",\n",
      "  \"hidden_dropout_prob\": 0.1,\n",
      "  \"hidden_size\": 1024,\n",
      "  \"initializer_range\": 0.02,\n",
      "  \"intermediate_size\": 4096,\n",
      "  \"layer_norm_eps\": 1e-12,\n",
      "  \"max_position_embeddings\": 512,\n",
      "  \"model_type\": \"bert\",\n",
      "  \"num_attention_heads\": 16,\n",
      "  \"num_hidden_layers\": 24,\n",
      "  \"pad_token_id\": 0,\n",
      "  \"position_embedding_type\": \"absolute\",\n",
      "  \"transformers_version\": \"4.24.0\",\n",
      "  \"type_vocab_size\": 2,\n",
      "  \"use_cache\": true,\n",
      "  \"vocab_size\": 50000\n",
      "}\n",
      "\n",
      "loading weights file pytorch_model.bin from cache at C:\\Users\\Karoline/.cache\\huggingface\\hub\\models--NbAiLab--nb-bert-large\\snapshots\\27e8180855f0de03688958c88a2e5702bfbf0bfd\\pytorch_model.bin\n",
      "Some weights of the model checkpoint at NbAiLab/nb-bert-large were not used when initializing BertForSequenceClassification: ['cls.predictions.decoder.weight', 'cls.predictions.bias', 'cls.predictions.transform.LayerNorm.weight', 'cls.predictions.transform.LayerNorm.bias', 'cls.predictions.transform.dense.weight', 'cls.seq_relationship.weight', 'cls.predictions.decoder.bias', 'cls.predictions.transform.dense.bias', 'cls.seq_relationship.bias']\n",
      "- This IS expected if you are initializing BertForSequenceClassification from the checkpoint of a model trained on another task or with another architecture (e.g. initializing a BertForSequenceClassification model from a BertForPreTraining model).\n",
      "- This IS NOT expected if you are initializing BertForSequenceClassification from the checkpoint of a model that you expect to be exactly identical (initializing a BertForSequenceClassification model from a BertForSequenceClassification model).\n",
      "Some weights of BertForSequenceClassification were not initialized from the model checkpoint at NbAiLab/nb-bert-large and are newly initialized: ['classifier.weight', 'classifier.bias']\n",
      "You should probably TRAIN this model on a down-stream task to be able to use it for predictions and inference.\n",
      "loading configuration file config.json from cache at C:\\Users\\Karoline/.cache\\huggingface\\hub\\models--NbAiLab--nb-bert-large\\snapshots\\27e8180855f0de03688958c88a2e5702bfbf0bfd\\config.json\n",
      "Model config BertConfig {\n",
      "  \"_name_or_path\": \"NbAiLab/nb-bert-large\",\n",
      "  \"attention_probs_dropout_prob\": 0.1,\n",
      "  \"classifier_dropout\": null,\n",
      "  \"gradient_checkpointing\": false,\n",
      "  \"hidden_act\": \"gelu\",\n",
      "  \"hidden_dropout_prob\": 0.1,\n",
      "  \"hidden_size\": 1024,\n",
      "  \"initializer_range\": 0.02,\n",
      "  \"intermediate_size\": 4096,\n",
      "  \"layer_norm_eps\": 1e-12,\n",
      "  \"max_position_embeddings\": 512,\n",
      "  \"model_type\": \"bert\",\n",
      "  \"num_attention_heads\": 16,\n",
      "  \"num_hidden_layers\": 24,\n",
      "  \"pad_token_id\": 0,\n",
      "  \"position_embedding_type\": \"absolute\",\n",
      "  \"transformers_version\": \"4.24.0\",\n",
      "  \"type_vocab_size\": 2,\n",
      "  \"use_cache\": true,\n",
      "  \"vocab_size\": 50000\n",
      "}\n",
      "\n",
      "loading file vocab.txt from cache at C:\\Users\\Karoline/.cache\\huggingface\\hub\\models--NbAiLab--nb-bert-large\\snapshots\\27e8180855f0de03688958c88a2e5702bfbf0bfd\\vocab.txt\n",
      "loading file tokenizer.json from cache at None\n",
      "loading file added_tokens.json from cache at None\n",
      "loading file special_tokens_map.json from cache at None\n",
      "loading file tokenizer_config.json from cache at C:\\Users\\Karoline/.cache\\huggingface\\hub\\models--NbAiLab--nb-bert-large\\snapshots\\27e8180855f0de03688958c88a2e5702bfbf0bfd\\tokenizer_config.json\n",
      "loading configuration file config.json from cache at C:\\Users\\Karoline/.cache\\huggingface\\hub\\models--NbAiLab--nb-bert-large\\snapshots\\27e8180855f0de03688958c88a2e5702bfbf0bfd\\config.json\n",
      "Model config BertConfig {\n",
      "  \"_name_or_path\": \"NbAiLab/nb-bert-large\",\n",
      "  \"attention_probs_dropout_prob\": 0.1,\n",
      "  \"classifier_dropout\": null,\n",
      "  \"gradient_checkpointing\": false,\n",
      "  \"hidden_act\": \"gelu\",\n",
      "  \"hidden_dropout_prob\": 0.1,\n",
      "  \"hidden_size\": 1024,\n",
      "  \"initializer_range\": 0.02,\n",
      "  \"intermediate_size\": 4096,\n",
      "  \"layer_norm_eps\": 1e-12,\n",
      "  \"max_position_embeddings\": 512,\n",
      "  \"model_type\": \"bert\",\n",
      "  \"num_attention_heads\": 16,\n",
      "  \"num_hidden_layers\": 24,\n",
      "  \"pad_token_id\": 0,\n",
      "  \"position_embedding_type\": \"absolute\",\n",
      "  \"transformers_version\": \"4.24.0\",\n",
      "  \"type_vocab_size\": 2,\n",
      "  \"use_cache\": true,\n",
      "  \"vocab_size\": 50000\n",
      "}\n",
      "\n",
      "loading configuration file config.json from cache at C:\\Users\\Karoline/.cache\\huggingface\\hub\\models--NbAiLab--nb-bert-large\\snapshots\\27e8180855f0de03688958c88a2e5702bfbf0bfd\\config.json\n",
      "Model config BertConfig {\n",
      "  \"_name_or_path\": \"NbAiLab/nb-bert-large\",\n",
      "  \"attention_probs_dropout_prob\": 0.1,\n",
      "  \"classifier_dropout\": null,\n",
      "  \"gradient_checkpointing\": false,\n",
      "  \"hidden_act\": \"gelu\",\n",
      "  \"hidden_dropout_prob\": 0.1,\n",
      "  \"hidden_size\": 1024,\n",
      "  \"initializer_range\": 0.02,\n",
      "  \"intermediate_size\": 4096,\n",
      "  \"layer_norm_eps\": 1e-12,\n",
      "  \"max_position_embeddings\": 512,\n",
      "  \"model_type\": \"bert\",\n",
      "  \"num_attention_heads\": 16,\n",
      "  \"num_hidden_layers\": 24,\n",
      "  \"pad_token_id\": 0,\n",
      "  \"position_embedding_type\": \"absolute\",\n",
      "  \"transformers_version\": \"4.24.0\",\n",
      "  \"type_vocab_size\": 2,\n",
      "  \"use_cache\": true,\n",
      "  \"vocab_size\": 50000\n",
      "}\n",
      "\n",
      "IOPub data rate exceeded.\n",
      "The notebook server will temporarily stop sending output\n",
      "to the client in order to avoid crashing it.\n",
      "To change this limit, set the config variable\n",
      "`--NotebookApp.iopub_data_rate_limit`.\n",
      "\n",
      "Current values:\n",
      "NotebookApp.iopub_data_rate_limit=1000000.0 (bytes/sec)\n",
      "NotebookApp.rate_limit_window=3.0 (secs)\n",
      "\n"
     ]
    }
   ],
   "source": [
    "results_not_fine_tuned = predict_from_fine_tuned_model(model_name, norec_test_text)\n",
    "predicted_labels_string_norec_not_fine_tuned = results_not_fine_tuned['Label']"
   ]
  },
  {
   "cell_type": "code",
   "execution_count": 69,
   "id": "5e77f9af",
   "metadata": {},
   "outputs": [
    {
     "name": "stdout",
     "output_type": "stream",
     "text": [
      "\n",
      "The results on the NoReC dataset when not fine-tuning is done is:\n",
      "              precision    recall  f1-score   support\n",
      "\n",
      "           0       0.27      0.31      0.28       416\n",
      "           1       0.70      0.65      0.67      1013\n",
      "\n",
      "    accuracy                           0.55      1429\n",
      "   macro avg       0.48      0.48      0.48      1429\n",
      "weighted avg       0.57      0.55      0.56      1429\n",
      "\n"
     ]
    }
   ],
   "source": [
    "print('\\nThe results on the NoReC dataset when not fine-tuning is done is:')\n",
    "report_evaluation(predicted_labels_string_norec_not_fine_tuned, norec_test_labels)"
   ]
  }
 ],
 "metadata": {
  "kernelspec": {
   "display_name": "Python 3 (ipykernel)",
   "language": "python",
   "name": "python3"
  },
  "language_info": {
   "codemirror_mode": {
    "name": "ipython",
    "version": 3
   },
   "file_extension": ".py",
   "mimetype": "text/x-python",
   "name": "python",
   "nbconvert_exporter": "python",
   "pygments_lexer": "ipython3",
   "version": "3.10.0"
  }
 },
 "nbformat": 4,
 "nbformat_minor": 5
}
