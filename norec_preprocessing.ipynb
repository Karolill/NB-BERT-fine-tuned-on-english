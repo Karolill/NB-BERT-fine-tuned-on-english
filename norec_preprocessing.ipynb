{
 "cells": [
  {
   "cell_type": "code",
   "execution_count": 1,
   "id": "f0407949",
   "metadata": {},
   "outputs": [],
   "source": [
    "import os\n",
    "import json\n",
    "import pandas as pd"
   ]
  },
  {
   "cell_type": "markdown",
   "id": "e7f9a7aa",
   "metadata": {},
   "source": [
    "## Read the reviews\n",
    "\n",
    "The test dataset contains reviews, one in each file, which must be read and saved so that it can be added to a dataframe later. NB: the files in the `./norec` folder were cloned from github using the command `git clone https://github.com/ltgoslo/norec`"
   ]
  },
  {
   "cell_type": "code",
   "execution_count": 2,
   "id": "8514bd37",
   "metadata": {},
   "outputs": [],
   "source": [
    "def read_reviews(folderpath: str): \n",
    "    \"\"\"\n",
    "    Read the text from all files in the folder. \n",
    "    Args: \n",
    "        folderpath: the path to the folder with all the files\n",
    "    Returns:\n",
    "        list[str] reviews: containing the entire text, each index corresponds to the text in one file.\n",
    "        list[str] filenames: containing the filenames of all files read\n",
    "    \"\"\"\n",
    "\n",
    "    reviews = []\n",
    "    filenames = []\n",
    "\n",
    "    for filename in os.listdir(folderpath):\n",
    "        with open(os.path.join(folderpath, filename), 'r', encoding='utf-8') as f:\n",
    "            try:\n",
    "                text = f.read()\n",
    "                reviews.append(text)\n",
    "                # Keep the filename so that it can be used to find the correct score in metadata.json:\n",
    "                filenames.append(filename)\n",
    "            except:\n",
    "                print(f'Error in file {filename}')\n",
    "    \n",
    "    return reviews, filenames"
   ]
  },
  {
   "cell_type": "markdown",
   "id": "7b70c88e",
   "metadata": {},
   "source": [
    "## Get the scores and make binary labels\n",
    "\n",
    "Retrieve the correct scores from the `metadata.json` file and turn all scores from 1-3 to 0, and all from 4-6 to 1. Also, the categories must be kept so that we can filter on those later. "
   ]
  },
  {
   "cell_type": "code",
   "execution_count": 3,
   "id": "db600973",
   "metadata": {},
   "outputs": [],
   "source": [
    "def get_scores_and_categories(filenames: list[str]):\n",
    "    \"\"\"\n",
    "    Function to get scores and categories for all reviews read. \n",
    "    Args:\n",
    "        filenames: the filename of each review read, to get the correct values from the metadata file\n",
    "    Returns:\n",
    "        list[str] scores: the score of each review \n",
    "        list[str] categories: the category of each thing being reviewed\n",
    "    \"\"\"\n",
    "\n",
    "    scores = []\n",
    "    categories = []\n",
    "\n",
    "    with open('./norec/data/metadata.json', 'r', encoding='utf-8') as f:\n",
    "        data = json.load(f)\n",
    "\n",
    "        for filename in filenames:\n",
    "            obj = data[filename[0:6]]\n",
    "            scores.append(obj['rating'])\n",
    "            categories.append(obj['category'])\n",
    "    \n",
    "    return scores, categories"
   ]
  },
  {
   "cell_type": "code",
   "execution_count": 4,
   "id": "b6fa4b9e",
   "metadata": {},
   "outputs": [],
   "source": [
    "def get_full_dataframe(reviews: list[str], scores: list[str], categories: list[str], filenames: list[str]) -> pd.DataFrame:\n",
    "    \"\"\"\n",
    "    Create a dataframe on the format |text|label|category|filename|\n",
    "    \"\"\"\n",
    "    df = pd.DataFrame({'text': reviews, 'label': scores, 'category': categories, 'filename': filenames})\n",
    "\n",
    "    # In this experiment only reviews in the category 'screen' are used, because it's the same domain as the IMDB dataset. \n",
    "    df = df.loc[df['category'] == 'screen']\n",
    "    \n",
    "    # Labels should be either 0 or 1\n",
    "    df.loc[df['label'] <= 3, 'label'] = 0\n",
    "    df.loc[df['label'] >= 4, 'label'] = 1\n",
    "    \n",
    "    return df    "
   ]
  },
  {
   "cell_type": "markdown",
   "id": "163cedb0",
   "metadata": {},
   "source": [
    "### Create test dataset"
   ]
  },
  {
   "cell_type": "code",
   "execution_count": 5,
   "id": "2be0769f",
   "metadata": {},
   "outputs": [
    {
     "data": {
      "text/html": [
       "<div>\n",
       "<style scoped>\n",
       "    .dataframe tbody tr th:only-of-type {\n",
       "        vertical-align: middle;\n",
       "    }\n",
       "\n",
       "    .dataframe tbody tr th {\n",
       "        vertical-align: top;\n",
       "    }\n",
       "\n",
       "    .dataframe thead th {\n",
       "        text-align: right;\n",
       "    }\n",
       "</style>\n",
       "<table border=\"1\" class=\"dataframe\">\n",
       "  <thead>\n",
       "    <tr style=\"text-align: right;\">\n",
       "      <th></th>\n",
       "      <th>text</th>\n",
       "      <th>label</th>\n",
       "      <th>category</th>\n",
       "      <th>filename</th>\n",
       "    </tr>\n",
       "  </thead>\n",
       "  <tbody>\n",
       "    <tr>\n",
       "      <th>0</th>\n",
       "      <td>Outlander S02 E01 - 02\\nFortsatt et eventyr du...</td>\n",
       "      <td>1</td>\n",
       "      <td>screen</td>\n",
       "      <td>000298.txt</td>\n",
       "    </tr>\n",
       "    <tr>\n",
       "      <th>1</th>\n",
       "      <td>Fear the Walking Dead S02 E01 - E02\\nDårlige r...</td>\n",
       "      <td>0</td>\n",
       "      <td>screen</td>\n",
       "      <td>000299.txt</td>\n",
       "    </tr>\n",
       "    <tr>\n",
       "      <th>2</th>\n",
       "      <td>Younger S01 E01 - E08\\n40-årskrisa på sitt mes...</td>\n",
       "      <td>0</td>\n",
       "      <td>screen</td>\n",
       "      <td>000303.txt</td>\n",
       "    </tr>\n",
       "    <tr>\n",
       "      <th>3</th>\n",
       "      <td>Marseille S01 E01 - E05\\nValgkamp med såpesmak...</td>\n",
       "      <td>0</td>\n",
       "      <td>screen</td>\n",
       "      <td>000304.txt</td>\n",
       "    </tr>\n",
       "    <tr>\n",
       "      <th>4</th>\n",
       "      <td>Galavant S01 E01 - 04\\nFin fantasy-musikal frå...</td>\n",
       "      <td>1</td>\n",
       "      <td>screen</td>\n",
       "      <td>000305.txt</td>\n",
       "    </tr>\n",
       "  </tbody>\n",
       "</table>\n",
       "</div>"
      ],
      "text/plain": [
       "                                                text  label category  \\\n",
       "0  Outlander S02 E01 - 02\\nFortsatt et eventyr du...      1   screen   \n",
       "1  Fear the Walking Dead S02 E01 - E02\\nDårlige r...      0   screen   \n",
       "2  Younger S01 E01 - E08\\n40-årskrisa på sitt mes...      0   screen   \n",
       "3  Marseille S01 E01 - E05\\nValgkamp med såpesmak...      0   screen   \n",
       "4  Galavant S01 E01 - 04\\nFin fantasy-musikal frå...      1   screen   \n",
       "\n",
       "     filename  \n",
       "0  000298.txt  \n",
       "1  000299.txt  \n",
       "2  000303.txt  \n",
       "3  000304.txt  \n",
       "4  000305.txt  "
      ]
     },
     "execution_count": 5,
     "metadata": {},
     "output_type": "execute_result"
    }
   ],
   "source": [
    "reviews, filenames = read_reviews('./norec/data/test')\n",
    "scores, categories = get_scores_and_categories(filenames)\n",
    "df = get_full_dataframe(reviews, scores, categories, filenames)\n",
    "df.head()"
   ]
  },
  {
   "cell_type": "code",
   "execution_count": 6,
   "id": "0aa11c73",
   "metadata": {},
   "outputs": [
    {
     "data": {
      "text/plain": [
       "label\n",
       "1    1013\n",
       "0     416\n",
       "dtype: int64"
      ]
     },
     "execution_count": 6,
     "metadata": {},
     "output_type": "execute_result"
    }
   ],
   "source": [
    "df.value_counts('label')"
   ]
  },
  {
   "cell_type": "markdown",
   "id": "dbe97694",
   "metadata": {},
   "source": [
    "Create a dataframe consisting of only the text and the label, and save this as a csv file so that it can be easily used by the other files training and evaluating the models. "
   ]
  },
  {
   "cell_type": "code",
   "execution_count": 7,
   "id": "5d945eea",
   "metadata": {},
   "outputs": [],
   "source": [
    "norec_df = df[['text', 'label']].copy()\n",
    "norec_df.to_csv('norec_test.csv', index=False)"
   ]
  },
  {
   "cell_type": "code",
   "execution_count": 8,
   "id": "99f39150",
   "metadata": {},
   "outputs": [
    {
     "data": {
      "text/html": [
       "<div>\n",
       "<style scoped>\n",
       "    .dataframe tbody tr th:only-of-type {\n",
       "        vertical-align: middle;\n",
       "    }\n",
       "\n",
       "    .dataframe tbody tr th {\n",
       "        vertical-align: top;\n",
       "    }\n",
       "\n",
       "    .dataframe thead th {\n",
       "        text-align: right;\n",
       "    }\n",
       "</style>\n",
       "<table border=\"1\" class=\"dataframe\">\n",
       "  <thead>\n",
       "    <tr style=\"text-align: right;\">\n",
       "      <th></th>\n",
       "      <th>text</th>\n",
       "      <th>label</th>\n",
       "    </tr>\n",
       "  </thead>\n",
       "  <tbody>\n",
       "    <tr>\n",
       "      <th>0</th>\n",
       "      <td>Outlander S02 E01 - 02\\nFortsatt et eventyr du...</td>\n",
       "      <td>1</td>\n",
       "    </tr>\n",
       "    <tr>\n",
       "      <th>1</th>\n",
       "      <td>Fear the Walking Dead S02 E01 - E02\\nDårlige r...</td>\n",
       "      <td>0</td>\n",
       "    </tr>\n",
       "    <tr>\n",
       "      <th>2</th>\n",
       "      <td>Younger S01 E01 - E08\\n40-årskrisa på sitt mes...</td>\n",
       "      <td>0</td>\n",
       "    </tr>\n",
       "    <tr>\n",
       "      <th>3</th>\n",
       "      <td>Marseille S01 E01 - E05\\nValgkamp med såpesmak...</td>\n",
       "      <td>0</td>\n",
       "    </tr>\n",
       "    <tr>\n",
       "      <th>4</th>\n",
       "      <td>Galavant S01 E01 - 04\\nFin fantasy-musikal frå...</td>\n",
       "      <td>1</td>\n",
       "    </tr>\n",
       "  </tbody>\n",
       "</table>\n",
       "</div>"
      ],
      "text/plain": [
       "                                                text  label\n",
       "0  Outlander S02 E01 - 02\\nFortsatt et eventyr du...      1\n",
       "1  Fear the Walking Dead S02 E01 - E02\\nDårlige r...      0\n",
       "2  Younger S01 E01 - E08\\n40-årskrisa på sitt mes...      0\n",
       "3  Marseille S01 E01 - E05\\nValgkamp med såpesmak...      0\n",
       "4  Galavant S01 E01 - 04\\nFin fantasy-musikal frå...      1"
      ]
     },
     "execution_count": 8,
     "metadata": {},
     "output_type": "execute_result"
    }
   ],
   "source": [
    "norec_df.head()"
   ]
  },
  {
   "cell_type": "code",
   "execution_count": 9,
   "id": "41f2cb08",
   "metadata": {},
   "outputs": [
    {
     "name": "stdout",
     "output_type": "stream",
     "text": [
      "<class 'pandas.core.frame.DataFrame'>\n",
      "Int64Index: 1429 entries, 0 to 4103\n",
      "Data columns (total 2 columns):\n",
      " #   Column  Non-Null Count  Dtype \n",
      "---  ------  --------------  ----- \n",
      " 0   text    1429 non-null   object\n",
      " 1   label   1429 non-null   int64 \n",
      "dtypes: int64(1), object(1)\n",
      "memory usage: 33.5+ KB\n"
     ]
    }
   ],
   "source": [
    "norec_df.info()"
   ]
  },
  {
   "cell_type": "markdown",
   "id": "4d658161",
   "metadata": {},
   "source": [
    "### Create training dataset\n",
    "\n",
    "To be able to compare a model trained on english and norwegian, a dataset is also needed for training. "
   ]
  },
  {
   "cell_type": "code",
   "execution_count": 10,
   "id": "b3e58e6d",
   "metadata": {},
   "outputs": [
    {
     "data": {
      "text/html": [
       "<div>\n",
       "<style scoped>\n",
       "    .dataframe tbody tr th:only-of-type {\n",
       "        vertical-align: middle;\n",
       "    }\n",
       "\n",
       "    .dataframe tbody tr th {\n",
       "        vertical-align: top;\n",
       "    }\n",
       "\n",
       "    .dataframe thead th {\n",
       "        text-align: right;\n",
       "    }\n",
       "</style>\n",
       "<table border=\"1\" class=\"dataframe\">\n",
       "  <thead>\n",
       "    <tr style=\"text-align: right;\">\n",
       "      <th></th>\n",
       "      <th>text</th>\n",
       "      <th>label</th>\n",
       "      <th>category</th>\n",
       "      <th>filename</th>\n",
       "    </tr>\n",
       "  </thead>\n",
       "  <tbody>\n",
       "    <tr>\n",
       "      <th>0</th>\n",
       "      <td>Rome S02\\nToppen innen tv-drama akkurat nå! \\n...</td>\n",
       "      <td>1</td>\n",
       "      <td>screen</td>\n",
       "      <td>000000.txt</td>\n",
       "    </tr>\n",
       "    <tr>\n",
       "      <th>1</th>\n",
       "      <td>Twin Peaks - definitive gold box edition\\nGull...</td>\n",
       "      <td>1</td>\n",
       "      <td>screen</td>\n",
       "      <td>000001.txt</td>\n",
       "    </tr>\n",
       "    <tr>\n",
       "      <th>2</th>\n",
       "      <td>The Wire (sesong 1-4)\\nThe Wire vil gjøre deg ...</td>\n",
       "      <td>1</td>\n",
       "      <td>screen</td>\n",
       "      <td>000002.txt</td>\n",
       "    </tr>\n",
       "    <tr>\n",
       "      <th>3</th>\n",
       "      <td>Mad Men (sesong 1)\\nStilig, underholdende og s...</td>\n",
       "      <td>1</td>\n",
       "      <td>screen</td>\n",
       "      <td>000003.txt</td>\n",
       "    </tr>\n",
       "    <tr>\n",
       "      <th>4</th>\n",
       "      <td>Mad Men (sesong 2)\\nTV-underholdning av høyest...</td>\n",
       "      <td>1</td>\n",
       "      <td>screen</td>\n",
       "      <td>000004.txt</td>\n",
       "    </tr>\n",
       "  </tbody>\n",
       "</table>\n",
       "</div>"
      ],
      "text/plain": [
       "                                                text  label category  \\\n",
       "0  Rome S02\\nToppen innen tv-drama akkurat nå! \\n...      1   screen   \n",
       "1  Twin Peaks - definitive gold box edition\\nGull...      1   screen   \n",
       "2  The Wire (sesong 1-4)\\nThe Wire vil gjøre deg ...      1   screen   \n",
       "3  Mad Men (sesong 1)\\nStilig, underholdende og s...      1   screen   \n",
       "4  Mad Men (sesong 2)\\nTV-underholdning av høyest...      1   screen   \n",
       "\n",
       "     filename  \n",
       "0  000000.txt  \n",
       "1  000001.txt  \n",
       "2  000002.txt  \n",
       "3  000003.txt  \n",
       "4  000004.txt  "
      ]
     },
     "execution_count": 10,
     "metadata": {},
     "output_type": "execute_result"
    }
   ],
   "source": [
    "reviews, filenames = read_reviews('./norec/data/train')\n",
    "scores, categories = get_scores_and_categories(filenames)\n",
    "df_train = get_full_dataframe(reviews, scores, categories, filenames)\n",
    "df_train.head()"
   ]
  },
  {
   "cell_type": "code",
   "execution_count": 11,
   "id": "6eb0a609",
   "metadata": {},
   "outputs": [
    {
     "data": {
      "text/plain": [
       "category\n",
       "screen    11439\n",
       "dtype: int64"
      ]
     },
     "execution_count": 11,
     "metadata": {},
     "output_type": "execute_result"
    }
   ],
   "source": [
    "df_train.value_counts('category')"
   ]
  },
  {
   "cell_type": "code",
   "execution_count": 12,
   "id": "5ed2aa81",
   "metadata": {},
   "outputs": [
    {
     "data": {
      "text/plain": [
       "label\n",
       "1    7474\n",
       "0    3965\n",
       "dtype: int64"
      ]
     },
     "execution_count": 12,
     "metadata": {},
     "output_type": "execute_result"
    }
   ],
   "source": [
    "df_train.value_counts('label')"
   ]
  },
  {
   "cell_type": "code",
   "execution_count": 13,
   "id": "6461eac9",
   "metadata": {},
   "outputs": [],
   "source": [
    "norec_df_train = df_train[['text', 'label']].copy()\n",
    "norec_df_train.to_csv('norec_dataset_train.csv', index=False)"
   ]
  },
  {
   "cell_type": "code",
   "execution_count": 14,
   "id": "f1739f65",
   "metadata": {},
   "outputs": [],
   "source": [
    "# Only 1000 will be used for training\n",
    "norec_train_small = norec_df_train.sample(n=1000, random_state=3)\n",
    "norec_train_small.to_csv('norec_train_small.csv', index=False)"
   ]
  },
  {
   "cell_type": "code",
   "execution_count": 15,
   "id": "6a6eb087",
   "metadata": {},
   "outputs": [
    {
     "name": "stdout",
     "output_type": "stream",
     "text": [
      "<class 'pandas.core.frame.DataFrame'>\n",
      "Int64Index: 1000 entries, 3200 to 13723\n",
      "Data columns (total 2 columns):\n",
      " #   Column  Non-Null Count  Dtype \n",
      "---  ------  --------------  ----- \n",
      " 0   text    1000 non-null   object\n",
      " 1   label   1000 non-null   int64 \n",
      "dtypes: int64(1), object(1)\n",
      "memory usage: 23.4+ KB\n"
     ]
    }
   ],
   "source": [
    "norec_train_small.info()"
   ]
  },
  {
   "cell_type": "markdown",
   "id": "fcd5125f",
   "metadata": {},
   "source": [
    "### Create evaluation dataset\n",
    "\n",
    "This dataset will be used to evaluate the model suring training. "
   ]
  },
  {
   "cell_type": "code",
   "execution_count": 16,
   "id": "cf154511",
   "metadata": {},
   "outputs": [
    {
     "data": {
      "text/html": [
       "<div>\n",
       "<style scoped>\n",
       "    .dataframe tbody tr th:only-of-type {\n",
       "        vertical-align: middle;\n",
       "    }\n",
       "\n",
       "    .dataframe tbody tr th {\n",
       "        vertical-align: top;\n",
       "    }\n",
       "\n",
       "    .dataframe thead th {\n",
       "        text-align: right;\n",
       "    }\n",
       "</style>\n",
       "<table border=\"1\" class=\"dataframe\">\n",
       "  <thead>\n",
       "    <tr style=\"text-align: right;\">\n",
       "      <th></th>\n",
       "      <th>text</th>\n",
       "      <th>label</th>\n",
       "      <th>category</th>\n",
       "      <th>filename</th>\n",
       "    </tr>\n",
       "  </thead>\n",
       "  <tbody>\n",
       "    <tr>\n",
       "      <th>0</th>\n",
       "      <td>Penny Dreadful S02 E01\\nEn god fortsettelse på...</td>\n",
       "      <td>1</td>\n",
       "      <td>screen</td>\n",
       "      <td>000227.txt</td>\n",
       "    </tr>\n",
       "    <tr>\n",
       "      <th>1</th>\n",
       "      <td>CSI:Cyber S01 E01-02 \\n\\nKybernetisk kalkun ut...</td>\n",
       "      <td>0</td>\n",
       "      <td>screen</td>\n",
       "      <td>000228.txt</td>\n",
       "    </tr>\n",
       "    <tr>\n",
       "      <th>2</th>\n",
       "      <td>Wayward Pines S01 E01-05\\nStarter med et smell...</td>\n",
       "      <td>0</td>\n",
       "      <td>screen</td>\n",
       "      <td>000229.txt</td>\n",
       "    </tr>\n",
       "    <tr>\n",
       "      <th>3</th>\n",
       "      <td>Between S01 E01\\nLovende tenåringsdrama med nå...</td>\n",
       "      <td>1</td>\n",
       "      <td>screen</td>\n",
       "      <td>000231.txt</td>\n",
       "    </tr>\n",
       "    <tr>\n",
       "      <th>4</th>\n",
       "      <td>Sense8 S01 E01-03\\nEt ambisiøst sci-fi-eventyr...</td>\n",
       "      <td>0</td>\n",
       "      <td>screen</td>\n",
       "      <td>000232.txt</td>\n",
       "    </tr>\n",
       "  </tbody>\n",
       "</table>\n",
       "</div>"
      ],
      "text/plain": [
       "                                                text  label category  \\\n",
       "0  Penny Dreadful S02 E01\\nEn god fortsettelse på...      1   screen   \n",
       "1  CSI:Cyber S01 E01-02 \\n\\nKybernetisk kalkun ut...      0   screen   \n",
       "2  Wayward Pines S01 E01-05\\nStarter med et smell...      0   screen   \n",
       "3  Between S01 E01\\nLovende tenåringsdrama med nå...      1   screen   \n",
       "4  Sense8 S01 E01-03\\nEt ambisiøst sci-fi-eventyr...      0   screen   \n",
       "\n",
       "     filename  \n",
       "0  000227.txt  \n",
       "1  000228.txt  \n",
       "2  000229.txt  \n",
       "3  000231.txt  \n",
       "4  000232.txt  "
      ]
     },
     "execution_count": 16,
     "metadata": {},
     "output_type": "execute_result"
    }
   ],
   "source": [
    "reviews, filenames = read_reviews('./norec/data/dev')\n",
    "scores, categories = get_scores_and_categories(filenames)\n",
    "df_eval = get_full_dataframe(reviews, scores, categories, filenames)\n",
    "df_eval.head()"
   ]
  },
  {
   "cell_type": "code",
   "execution_count": 17,
   "id": "05583aeb",
   "metadata": {},
   "outputs": [
    {
     "data": {
      "text/plain": [
       "category\n",
       "screen    1429\n",
       "dtype: int64"
      ]
     },
     "execution_count": 17,
     "metadata": {},
     "output_type": "execute_result"
    }
   ],
   "source": [
    "df_eval.value_counts('category')"
   ]
  },
  {
   "cell_type": "code",
   "execution_count": 18,
   "id": "4accfa7a",
   "metadata": {},
   "outputs": [
    {
     "data": {
      "text/plain": [
       "label\n",
       "1    944\n",
       "0    485\n",
       "dtype: int64"
      ]
     },
     "execution_count": 18,
     "metadata": {},
     "output_type": "execute_result"
    }
   ],
   "source": [
    "df_eval.value_counts('label')"
   ]
  },
  {
   "cell_type": "code",
   "execution_count": 19,
   "id": "12abbf74",
   "metadata": {},
   "outputs": [],
   "source": [
    "norec_df_eval = df_eval[['text', 'label']].copy()\n",
    "norec_df_eval.to_csv('norec_dataset_eval.csv', index=False)"
   ]
  },
  {
   "cell_type": "code",
   "execution_count": 20,
   "id": "84846061",
   "metadata": {},
   "outputs": [],
   "source": [
    "# Only 200 will be used for evaluation\n",
    "norec_eval_small = norec_df_train.sample(n=200, random_state=3)\n",
    "norec_eval_small.to_csv('norec_eval_small.csv', index=False)"
   ]
  },
  {
   "cell_type": "code",
   "execution_count": 22,
   "id": "95646202",
   "metadata": {},
   "outputs": [
    {
     "name": "stdout",
     "output_type": "stream",
     "text": [
      "<class 'pandas.core.frame.DataFrame'>\n",
      "Int64Index: 200 entries, 3200 to 5561\n",
      "Data columns (total 2 columns):\n",
      " #   Column  Non-Null Count  Dtype \n",
      "---  ------  --------------  ----- \n",
      " 0   text    200 non-null    object\n",
      " 1   label   200 non-null    int64 \n",
      "dtypes: int64(1), object(1)\n",
      "memory usage: 4.7+ KB\n"
     ]
    }
   ],
   "source": [
    "norec_eval_small.info()"
   ]
  }
 ],
 "metadata": {
  "kernelspec": {
   "display_name": "Python 3 (ipykernel)",
   "language": "python",
   "name": "python3"
  },
  "language_info": {
   "codemirror_mode": {
    "name": "ipython",
    "version": 3
   },
   "file_extension": ".py",
   "mimetype": "text/x-python",
   "name": "python",
   "nbconvert_exporter": "python",
   "pygments_lexer": "ipython3",
   "version": "3.10.0"
  }
 },
 "nbformat": 4,
 "nbformat_minor": 5
}
